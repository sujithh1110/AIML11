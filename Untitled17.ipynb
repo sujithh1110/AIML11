{
  "nbformat": 4,
  "nbformat_minor": 0,
  "metadata": {
    "colab": {
      "provenance": [],
      "authorship_tag": "ABX9TyOtlMRLYAGUvxlv8hDI4h1N",
      "include_colab_link": true
    },
    "kernelspec": {
      "name": "python3",
      "display_name": "Python 3"
    },
    "language_info": {
      "name": "python"
    }
  },
  "cells": [
    {
      "cell_type": "markdown",
      "metadata": {
        "id": "view-in-github",
        "colab_type": "text"
      },
      "source": [
        "<a href=\"https://colab.research.google.com/github/sujithh1110/AIML11/blob/main/Untitled17.ipynb\" target=\"_parent\"><img src=\"https://colab.research.google.com/assets/colab-badge.svg\" alt=\"Open In Colab\"/></a>"
      ]
    },
    {
      "cell_type": "code",
      "execution_count": 3,
      "metadata": {
        "colab": {
          "base_uri": "https://localhost:8080/"
        },
        "id": "mCZJOgeBQCvq",
        "outputId": "02f7cb7f-9d3d-4585-9456-9ce18cdf5bb4"
      },
      "outputs": [
        {
          "output_type": "stream",
          "name": "stdout",
          "text": [
            "[ 1  2 34  6 32 14 65  7]\n"
          ]
        }
      ],
      "source": [
        "import numpy as np\n",
        "a=[1,2,34,6,32,14,65,7]\n",
        "arr=np.array(a)\n",
        "print(arr)"
      ]
    },
    {
      "cell_type": "code",
      "source": [
        "arr=np.array([1,2,34,6,32,14,65,7])\n",
        "print(arr)"
      ],
      "metadata": {
        "colab": {
          "base_uri": "https://localhost:8080/"
        },
        "id": "WXWu3M0fQ75r",
        "outputId": "02a686b3-4e95-48ca-fa21-ac25ead200e7"
      },
      "execution_count": 5,
      "outputs": [
        {
          "output_type": "stream",
          "name": "stdout",
          "text": [
            "[ 1  2 34  6 32 14 65  7]\n"
          ]
        }
      ]
    },
    {
      "cell_type": "code",
      "source": [
        " print(arr[0])\n",
        " print(arr[2])"
      ],
      "metadata": {
        "colab": {
          "base_uri": "https://localhost:8080/"
        },
        "id": "CCrxpr0uRMa-",
        "outputId": "dace19e5-cbf0-4cf6-b751-5fdc2b66e680"
      },
      "execution_count": 6,
      "outputs": [
        {
          "output_type": "stream",
          "name": "stdout",
          "text": [
            "1\n",
            "34\n"
          ]
        }
      ]
    },
    {
      "cell_type": "code",
      "source": [
        " aa=[[1,2,3,4],[4,2,3,6]]\n",
        " A=np.array(aa)\n",
        " print(A)"
      ],
      "metadata": {
        "colab": {
          "base_uri": "https://localhost:8080/"
        },
        "id": "Un43z0y0RWEx",
        "outputId": "bb9ad1f8-ed10-43dd-faca-85e0de74682f"
      },
      "execution_count": 7,
      "outputs": [
        {
          "output_type": "stream",
          "name": "stdout",
          "text": [
            "[[1 2 3 4]\n",
            " [4 2 3 6]]\n"
          ]
        }
      ]
    },
    {
      "cell_type": "code",
      "source": [
        "A=np.array([[1,2,3,4],[4,2,3,6]])\n",
        "print(A)"
      ],
      "metadata": {
        "colab": {
          "base_uri": "https://localhost:8080/"
        },
        "id": "pXuDaxrcRbNZ",
        "outputId": "b38784f2-83f7-4780-8865-cc7b90719ac0"
      },
      "execution_count": 8,
      "outputs": [
        {
          "output_type": "stream",
          "name": "stdout",
          "text": [
            "[[1 2 3 4]\n",
            " [4 2 3 6]]\n"
          ]
        }
      ]
    },
    {
      "cell_type": "code",
      "source": [
        " print(type(A))"
      ],
      "metadata": {
        "colab": {
          "base_uri": "https://localhost:8080/"
        },
        "id": "RJmDIAT1RkQe",
        "outputId": "7d3d2178-f915-46fb-93c6-b4c05c90153a"
      },
      "execution_count": 9,
      "outputs": [
        {
          "output_type": "stream",
          "name": "stdout",
          "text": [
            "<class 'numpy.ndarray'>\n"
          ]
        }
      ]
    },
    {
      "cell_type": "code",
      "source": [
        "print(type(arr))"
      ],
      "metadata": {
        "colab": {
          "base_uri": "https://localhost:8080/"
        },
        "id": "qy8IZMBtRotW",
        "outputId": "80033f39-5cb4-4102-cf2f-797f145ada78"
      },
      "execution_count": 10,
      "outputs": [
        {
          "output_type": "stream",
          "name": "stdout",
          "text": [
            "<class 'numpy.ndarray'>\n"
          ]
        }
      ]
    },
    {
      "cell_type": "code",
      "source": [
        " np.ndim(arr)"
      ],
      "metadata": {
        "colab": {
          "base_uri": "https://localhost:8080/"
        },
        "id": "IEf6kKOtRt6m",
        "outputId": "04eba971-b65f-4714-9173-3c0e3f84cd9e"
      },
      "execution_count": 11,
      "outputs": [
        {
          "output_type": "execute_result",
          "data": {
            "text/plain": [
              "1"
            ]
          },
          "metadata": {},
          "execution_count": 11
        }
      ]
    },
    {
      "cell_type": "code",
      "source": [
        "np.ndim(A)"
      ],
      "metadata": {
        "colab": {
          "base_uri": "https://localhost:8080/"
        },
        "id": "4mpzqBcPRyQA",
        "outputId": "d5ca387d-d36b-40ae-b40f-48e09c962ae9"
      },
      "execution_count": 12,
      "outputs": [
        {
          "output_type": "execute_result",
          "data": {
            "text/plain": [
              "2"
            ]
          },
          "metadata": {},
          "execution_count": 12
        }
      ]
    },
    {
      "cell_type": "code",
      "source": [
        " print(np.size(arr))"
      ],
      "metadata": {
        "colab": {
          "base_uri": "https://localhost:8080/"
        },
        "id": "NFFpLqdLR4_l",
        "outputId": "771e6e43-8d68-4dd3-8fd5-89f722e6def5"
      },
      "execution_count": 13,
      "outputs": [
        {
          "output_type": "stream",
          "name": "stdout",
          "text": [
            "8\n"
          ]
        }
      ]
    },
    {
      "cell_type": "code",
      "source": [
        "print(np.size(A))"
      ],
      "metadata": {
        "colab": {
          "base_uri": "https://localhost:8080/"
        },
        "id": "kqz6b-aeSCRz",
        "outputId": "ee697b9c-db70-4b60-ad27-4c4fb196efc5"
      },
      "execution_count": 14,
      "outputs": [
        {
          "output_type": "stream",
          "name": "stdout",
          "text": [
            "8\n"
          ]
        }
      ]
    },
    {
      "cell_type": "code",
      "source": [
        " print(np.shape(arr))"
      ],
      "metadata": {
        "colab": {
          "base_uri": "https://localhost:8080/"
        },
        "id": "HIUp4pBUSFvf",
        "outputId": "377ded1f-8410-40be-f8ab-00c3eeea89c8"
      },
      "execution_count": 15,
      "outputs": [
        {
          "output_type": "stream",
          "name": "stdout",
          "text": [
            "(8,)\n"
          ]
        }
      ]
    },
    {
      "cell_type": "code",
      "source": [
        " print(np.shape(A))\n"
      ],
      "metadata": {
        "colab": {
          "base_uri": "https://localhost:8080/"
        },
        "id": "Q2SQTiX5SKQb",
        "outputId": "f296400e-5f48-439b-f25d-ef6933d42b30"
      },
      "execution_count": 16,
      "outputs": [
        {
          "output_type": "stream",
          "name": "stdout",
          "text": [
            "(2, 4)\n"
          ]
        }
      ]
    },
    {
      "cell_type": "code",
      "source": [
        "A=np.array([[1,2,3],[3,4,5],[4,5,6]])\n",
        "print(A)\n"
      ],
      "metadata": {
        "colab": {
          "base_uri": "https://localhost:8080/"
        },
        "id": "VM6Yue8lSQAS",
        "outputId": "0e75b630-a976-4cb7-cf70-f170e46c39d8"
      },
      "execution_count": 17,
      "outputs": [
        {
          "output_type": "stream",
          "name": "stdout",
          "text": [
            "[[1 2 3]\n",
            " [3 4 5]\n",
            " [4 5 6]]\n"
          ]
        }
      ]
    },
    {
      "cell_type": "code",
      "source": [
        "print(A[0,:])\n",
        "print(A[1,:])\n",
        "print(A[2,:])"
      ],
      "metadata": {
        "colab": {
          "base_uri": "https://localhost:8080/"
        },
        "id": "q3wuzB80SXvc",
        "outputId": "7885750f-c4e6-4915-f65b-662c989e40ea"
      },
      "execution_count": 19,
      "outputs": [
        {
          "output_type": "stream",
          "name": "stdout",
          "text": [
            "[1 2 3]\n",
            "[3 4 5]\n",
            "[4 5 6]\n"
          ]
        }
      ]
    },
    {
      "cell_type": "code",
      "source": [
        "print(A[:,0])\n",
        "print(A[:,1])\n",
        "print(A[:,2])"
      ],
      "metadata": {
        "colab": {
          "base_uri": "https://localhost:8080/"
        },
        "id": "FB_ulioYSeb5",
        "outputId": "a8de5751-f3bb-4744-c140-dae7c3b4bbdc"
      },
      "execution_count": 21,
      "outputs": [
        {
          "output_type": "stream",
          "name": "stdout",
          "text": [
            "[1 3 4]\n",
            "[2 4 5]\n",
            "[3 5 6]\n"
          ]
        }
      ]
    },
    {
      "cell_type": "code",
      "source": [
        " print(A[2,1])"
      ],
      "metadata": {
        "colab": {
          "base_uri": "https://localhost:8080/"
        },
        "id": "lIFnlZHbSmAu",
        "outputId": "715c0031-2f03-493d-cc7e-b702190cc348"
      },
      "execution_count": 22,
      "outputs": [
        {
          "output_type": "stream",
          "name": "stdout",
          "text": [
            "5\n"
          ]
        }
      ]
    },
    {
      "cell_type": "code",
      "source": [
        "import pandas as pd"
      ],
      "metadata": {
        "id": "xa9rp5W2SsT7"
      },
      "execution_count": 23,
      "outputs": []
    },
    {
      "cell_type": "code",
      "source": [
        " Dataset={\n",
        " \"State\": ['Andhra Pradesh', 'Maharashtra', 'Karnataka', 'Kerala', 'Tamil Nadu'],\n",
        " \"Capital\": ['Hyderabad', 'Mumbai', 'Bengaluru', 'Trivandrum', 'Chennai'],\n",
        " \"Literacy %\": [89, 77, 82, 97,85],\n",
        " \"Avg High Temp(c)\": [33, 30, 29, 31, 32 ]}\n",
        " print(Dataset)\n",
        ""
      ],
      "metadata": {
        "colab": {
          "base_uri": "https://localhost:8080/"
        },
        "id": "fX7e1-BZSyJX",
        "outputId": "8b5e72d4-6437-45f8-b3f0-931f478f1dd3"
      },
      "execution_count": 24,
      "outputs": [
        {
          "output_type": "stream",
          "name": "stdout",
          "text": [
            "{'State': ['Andhra Pradesh', 'Maharashtra', 'Karnataka', 'Kerala', 'Tamil Nadu'], 'Capital': ['Hyderabad', 'Mumbai', 'Bengaluru', 'Trivandrum', 'Chennai'], 'Literacy %': [89, 77, 82, 97, 85], 'Avg High Temp(c)': [33, 30, 29, 31, 32]}\n"
          ]
        }
      ]
    },
    {
      "cell_type": "code",
      "source": [
        "df = pd.DataFrame(Dataset)\n",
        "print(df)\n",
        ""
      ],
      "metadata": {
        "colab": {
          "base_uri": "https://localhost:8080/"
        },
        "id": "IP4r7YkpTD3-",
        "outputId": "4a3c109d-9242-4e48-c73a-00a29899e06d"
      },
      "execution_count": 25,
      "outputs": [
        {
          "output_type": "stream",
          "name": "stdout",
          "text": [
            "            State     Capital  Literacy %  Avg High Temp(c)\n",
            "0  Andhra Pradesh   Hyderabad          89                33\n",
            "1     Maharashtra      Mumbai          77                30\n",
            "2       Karnataka   Bengaluru          82                29\n",
            "3          Kerala  Trivandrum          97                31\n",
            "4      Tamil Nadu     Chennai          85                32\n"
          ]
        }
      ]
    },
    {
      "cell_type": "code",
      "source": [
        " df = pd.DataFrame({\n",
        " \"State\": ['Andhra Pradesh', 'Maharashtra', 'Karnataka', 'Kerala', 'Tamil Nadu'],\n",
        " \"Capital\": ['Hyderabad', 'Mumbai', 'Bengaluru', 'Trivandrum', 'Chennai'],\n",
        " \"Literacy %\": [89, 77, 82, 97,85],\n",
        " \"Avg High Temp(c)\": [33, 30, 29, 31, 32 ]\n",
        " })\n",
        " print(df)"
      ],
      "metadata": {
        "colab": {
          "base_uri": "https://localhost:8080/"
        },
        "id": "6dHaMuWKTKX8",
        "outputId": "79b46803-48a7-4c47-96e3-3addbd07cfde"
      },
      "execution_count": 26,
      "outputs": [
        {
          "output_type": "stream",
          "name": "stdout",
          "text": [
            "            State     Capital  Literacy %  Avg High Temp(c)\n",
            "0  Andhra Pradesh   Hyderabad          89                33\n",
            "1     Maharashtra      Mumbai          77                30\n",
            "2       Karnataka   Bengaluru          82                29\n",
            "3          Kerala  Trivandrum          97                31\n",
            "4      Tamil Nadu     Chennai          85                32\n"
          ]
        }
      ]
    },
    {
      "cell_type": "code",
      "source": [
        "print(df.head(2))"
      ],
      "metadata": {
        "colab": {
          "base_uri": "https://localhost:8080/"
        },
        "id": "k9kc-zPaTTVp",
        "outputId": "ecd3087b-3118-474a-ef75-e8179a3e4b86"
      },
      "execution_count": 28,
      "outputs": [
        {
          "output_type": "stream",
          "name": "stdout",
          "text": [
            "            State    Capital  Literacy %  Avg High Temp(c)\n",
            "0  Andhra Pradesh  Hyderabad          89                33\n",
            "1     Maharashtra     Mumbai          77                30\n"
          ]
        }
      ]
    },
    {
      "cell_type": "code",
      "source": [
        " print(df.tail(3))"
      ],
      "metadata": {
        "colab": {
          "base_uri": "https://localhost:8080/"
        },
        "id": "MG6yz6H8Tdnj",
        "outputId": "c247198a-18a1-44c7-d28a-3414a614a7a1"
      },
      "execution_count": 29,
      "outputs": [
        {
          "output_type": "stream",
          "name": "stdout",
          "text": [
            "        State     Capital  Literacy %  Avg High Temp(c)\n",
            "2   Karnataka   Bengaluru          82                29\n",
            "3      Kerala  Trivandrum          97                31\n",
            "4  Tamil Nadu     Chennai          85                32\n"
          ]
        }
      ]
    },
    {
      "cell_type": "code",
      "source": [
        "print(df.dtypes)"
      ],
      "metadata": {
        "colab": {
          "base_uri": "https://localhost:8080/"
        },
        "id": "CLPcl5-uTfVL",
        "outputId": "741dbb2d-d8e1-4ab1-90f1-f3c851fd5d6a"
      },
      "execution_count": 30,
      "outputs": [
        {
          "output_type": "stream",
          "name": "stdout",
          "text": [
            "State               object\n",
            "Capital             object\n",
            "Literacy %           int64\n",
            "Avg High Temp(c)     int64\n",
            "dtype: object\n"
          ]
        }
      ]
    },
    {
      "cell_type": "code",
      "source": [
        "print(df.sort_values('Literacy %', ascending=False))"
      ],
      "metadata": {
        "colab": {
          "base_uri": "https://localhost:8080/"
        },
        "id": "287gh_4OTiof",
        "outputId": "fbbbb62b-f747-400e-9417-a4a4df22329d"
      },
      "execution_count": 31,
      "outputs": [
        {
          "output_type": "stream",
          "name": "stdout",
          "text": [
            "            State     Capital  Literacy %  Avg High Temp(c)\n",
            "3          Kerala  Trivandrum          97                31\n",
            "0  Andhra Pradesh   Hyderabad          89                33\n",
            "4      Tamil Nadu     Chennai          85                32\n",
            "2       Karnataka   Bengaluru          82                29\n",
            "1     Maharashtra      Mumbai          77                30\n"
          ]
        }
      ]
    },
    {
      "cell_type": "code",
      "source": [
        "print(df[['Capital']])"
      ],
      "metadata": {
        "colab": {
          "base_uri": "https://localhost:8080/"
        },
        "id": "LBJ6oeDXTmeC",
        "outputId": "245d7381-8680-4eb0-a6bf-0f5664fd9d26"
      },
      "execution_count": 32,
      "outputs": [
        {
          "output_type": "stream",
          "name": "stdout",
          "text": [
            "      Capital\n",
            "0   Hyderabad\n",
            "1      Mumbai\n",
            "2   Bengaluru\n",
            "3  Trivandrum\n",
            "4     Chennai\n"
          ]
        }
      ]
    },
    {
      "cell_type": "code",
      "source": [
        "print(df[['State', 'Capital']])"
      ],
      "metadata": {
        "colab": {
          "base_uri": "https://localhost:8080/"
        },
        "id": "VY7WZiAGTrKE",
        "outputId": "8c33c566-7d22-4071-f0d1-2ef1c383a0ab"
      },
      "execution_count": 33,
      "outputs": [
        {
          "output_type": "stream",
          "name": "stdout",
          "text": [
            "            State     Capital\n",
            "0  Andhra Pradesh   Hyderabad\n",
            "1     Maharashtra      Mumbai\n",
            "2       Karnataka   Bengaluru\n",
            "3          Kerala  Trivandrum\n",
            "4      Tamil Nadu     Chennai\n"
          ]
        }
      ]
    },
    {
      "cell_type": "code",
      "source": [
        "print(df.loc[2])\n",
        ""
      ],
      "metadata": {
        "colab": {
          "base_uri": "https://localhost:8080/"
        },
        "id": "SWDNaLoHTwMf",
        "outputId": "36c525c2-f140-4f64-83ae-58a7393e5e56"
      },
      "execution_count": 34,
      "outputs": [
        {
          "output_type": "stream",
          "name": "stdout",
          "text": [
            "State               Karnataka\n",
            "Capital             Bengaluru\n",
            "Literacy %                 82\n",
            "Avg High Temp(c)           29\n",
            "Name: 2, dtype: object\n"
          ]
        }
      ]
    },
    {
      "cell_type": "code",
      "source": [
        "print(df.iloc[2])"
      ],
      "metadata": {
        "colab": {
          "base_uri": "https://localhost:8080/"
        },
        "id": "0AOEF6f9TyRl",
        "outputId": "4d063e54-ed58-4358-d1cb-690411484070"
      },
      "execution_count": 35,
      "outputs": [
        {
          "output_type": "stream",
          "name": "stdout",
          "text": [
            "State               Karnataka\n",
            "Capital             Bengaluru\n",
            "Literacy %                 82\n",
            "Avg High Temp(c)           29\n",
            "Name: 2, dtype: object\n"
          ]
        }
      ]
    },
    {
      "cell_type": "code",
      "source": [
        " print(df.iloc[1,2])"
      ],
      "metadata": {
        "colab": {
          "base_uri": "https://localhost:8080/"
        },
        "id": "dZ68Xms1T7Ut",
        "outputId": "f3891c36-c31c-445f-addf-2290d9323fef"
      },
      "execution_count": 37,
      "outputs": [
        {
          "output_type": "stream",
          "name": "stdout",
          "text": [
            "77\n"
          ]
        }
      ]
    },
    {
      "cell_type": "code",
      "source": [
        "print(df.loc[1,'Literacy %'])"
      ],
      "metadata": {
        "colab": {
          "base_uri": "https://localhost:8080/"
        },
        "id": "NN1NDcC8T-7t",
        "outputId": "39330dcf-cd1a-4a2f-bcc6-4530e864f7e2"
      },
      "execution_count": 38,
      "outputs": [
        {
          "output_type": "stream",
          "name": "stdout",
          "text": [
            "77\n"
          ]
        }
      ]
    },
    {
      "cell_type": "code",
      "source": [
        " a={\"Distance\":[15, 13, 16, 16, 15, 16, 17, 14, 15, 16, 16,17, 14, 17, 17, 16, 14, 15, 16, 17, 14, 16, 15, 17, 14, 16, 15, 17, 13]}"
      ],
      "metadata": {
        "id": "q27BR5aoUYbB"
      },
      "execution_count": 41,
      "outputs": []
    },
    {
      "cell_type": "code",
      "source": [
        "import pandas as pd\n",
        "df=pd.DataFrame(a)\n",
        "print(df)\n",
        "print('The number of elements in the column is =',df['Distance'].size)"
      ],
      "metadata": {
        "colab": {
          "base_uri": "https://localhost:8080/"
        },
        "id": "KpddRu11UQbe",
        "outputId": "8595fa26-aef2-4ef1-d14b-f84a9a375595"
      },
      "execution_count": 42,
      "outputs": [
        {
          "output_type": "stream",
          "name": "stdout",
          "text": [
            "    Distance\n",
            "0         15\n",
            "1         13\n",
            "2         16\n",
            "3         16\n",
            "4         15\n",
            "5         16\n",
            "6         17\n",
            "7         14\n",
            "8         15\n",
            "9         16\n",
            "10        16\n",
            "11        17\n",
            "12        14\n",
            "13        17\n",
            "14        17\n",
            "15        16\n",
            "16        14\n",
            "17        15\n",
            "18        16\n",
            "19        17\n",
            "20        14\n",
            "21        16\n",
            "22        15\n",
            "23        17\n",
            "24        14\n",
            "25        16\n",
            "26        15\n",
            "27        17\n",
            "28        13\n",
            "The number of elements in the column is = 29\n"
          ]
        }
      ]
    },
    {
      "cell_type": "code",
      "source": [
        " df2=pd.crosstab(index=df['Distance'],columns='Frequency')\n",
        " print(df2)"
      ],
      "metadata": {
        "colab": {
          "base_uri": "https://localhost:8080/"
        },
        "id": "UG8l4W8ZUz__",
        "outputId": "b3d8c178-e93f-4627-f1a9-044d93116a97"
      },
      "execution_count": 43,
      "outputs": [
        {
          "output_type": "stream",
          "name": "stdout",
          "text": [
            "col_0     Frequency\n",
            "Distance           \n",
            "13                2\n",
            "14                5\n",
            "15                6\n",
            "16                9\n",
            "17                7\n"
          ]
        }
      ]
    },
    {
      "cell_type": "code",
      "source": [
        " print(df2['Frequency'].sum())"
      ],
      "metadata": {
        "colab": {
          "base_uri": "https://localhost:8080/"
        },
        "id": "9EVJYoc7U9qo",
        "outputId": "fb9d1e76-eb76-48ba-f9cc-6b7d01049d49"
      },
      "execution_count": 44,
      "outputs": [
        {
          "output_type": "stream",
          "name": "stdout",
          "text": [
            "29\n"
          ]
        }
      ]
    },
    {
      "cell_type": "code",
      "source": [
        " df2['Relative_Frequencies']=df2['Frequency']/df2['Frequency'].sum()\n",
        " df2['Percentage']=df2['Frequency']/df2['Frequency'].sum()*100\n",
        " print(df2)"
      ],
      "metadata": {
        "colab": {
          "base_uri": "https://localhost:8080/"
        },
        "id": "LstfiSsFVEr6",
        "outputId": "2c84fff7-c549-4141-b5ee-576a96e0108c"
      },
      "execution_count": 45,
      "outputs": [
        {
          "output_type": "stream",
          "name": "stdout",
          "text": [
            "col_0     Frequency  Relative_Frequencies  Percentage\n",
            "Distance                                             \n",
            "13                2              0.068966    6.896552\n",
            "14                5              0.172414   17.241379\n",
            "15                6              0.206897   20.689655\n",
            "16                9              0.310345   31.034483\n",
            "17                7              0.241379   24.137931\n"
          ]
        }
      ]
    },
    {
      "cell_type": "code",
      "source": [
        "df2.loc['Total']=df2.sum()\n",
        "print(df2)"
      ],
      "metadata": {
        "colab": {
          "base_uri": "https://localhost:8080/"
        },
        "id": "9OHw_W4HVHHv",
        "outputId": "790616b5-915b-44f1-f68d-755111d956e3"
      },
      "execution_count": 46,
      "outputs": [
        {
          "output_type": "stream",
          "name": "stdout",
          "text": [
            "col_0     Frequency  Relative_Frequencies  Percentage\n",
            "Distance                                             \n",
            "13              2.0              0.068966    6.896552\n",
            "14              5.0              0.172414   17.241379\n",
            "15              6.0              0.206897   20.689655\n",
            "16              9.0              0.310345   31.034483\n",
            "17              7.0              0.241379   24.137931\n",
            "Total          29.0              1.000000  100.000000\n"
          ]
        }
      ]
    },
    {
      "cell_type": "code",
      "source": [
        " import numpy as np\n",
        " import pandas as pd"
      ],
      "metadata": {
        "id": "02djUIObVP2d"
      },
      "execution_count": 47,
      "outputs": []
    },
    {
      "cell_type": "code",
      "source": [
        "data=[328, 470, 405, 375, 298, 326, 276, 362, 410, 255, 391, 370, 455, 229, 300, 183,\n",
        " 283, 366, 400, 495, 215, 157, 374, 306, 280, 409, 321, 269, 398, 200]\n",
        "diction={\"Score\":data}\n",
        "df=pd.DataFrame(diction)\n",
        "print(df)\n",
        ""
      ],
      "metadata": {
        "colab": {
          "base_uri": "https://localhost:8080/"
        },
        "id": "a1O7lP3kVTyx",
        "outputId": "d21728bf-d536-4b88-85bb-b387bd011011"
      },
      "execution_count": 49,
      "outputs": [
        {
          "output_type": "stream",
          "name": "stdout",
          "text": [
            "    Score\n",
            "0     328\n",
            "1     470\n",
            "2     405\n",
            "3     375\n",
            "4     298\n",
            "5     326\n",
            "6     276\n",
            "7     362\n",
            "8     410\n",
            "9     255\n",
            "10    391\n",
            "11    370\n",
            "12    455\n",
            "13    229\n",
            "14    300\n",
            "15    183\n",
            "16    283\n",
            "17    366\n",
            "18    400\n",
            "19    495\n",
            "20    215\n",
            "21    157\n",
            "22    374\n",
            "23    306\n",
            "24    280\n",
            "25    409\n",
            "26    321\n",
            "27    269\n",
            "28    398\n",
            "29    200\n"
          ]
        }
      ]
    },
    {
      "cell_type": "code",
      "source": [
        " A=min(data)\n",
        " print('The lowest value is ',A)\n",
        " B=max(data)\n",
        " print('The highestest value is ',B)\n",
        " N=round((B-A)/50)\n",
        " N\n",
        ""
      ],
      "metadata": {
        "colab": {
          "base_uri": "https://localhost:8080/"
        },
        "id": "SILXo1zsVeBx",
        "outputId": "b562ee91-fbce-48e6-b20c-c23343f8d1ae"
      },
      "execution_count": 50,
      "outputs": [
        {
          "output_type": "stream",
          "name": "stdout",
          "text": [
            "The lowest value is  157\n",
            "The highestest value is  495\n"
          ]
        },
        {
          "output_type": "execute_result",
          "data": {
            "text/plain": [
              "7"
            ]
          },
          "metadata": {},
          "execution_count": 50
        }
      ]
    },
    {
      "cell_type": "code",
      "source": [
        "bins=np.linspace(150,500,N+1)\n",
        "print(bins)"
      ],
      "metadata": {
        "colab": {
          "base_uri": "https://localhost:8080/"
        },
        "id": "gpP0gj2LVf68",
        "outputId": "c2350895-1385-42ff-f83d-8bfef8fb558a"
      },
      "execution_count": 51,
      "outputs": [
        {
          "output_type": "stream",
          "name": "stdout",
          "text": [
            "[150. 200. 250. 300. 350. 400. 450. 500.]\n"
          ]
        }
      ]
    },
    {
      "cell_type": "code",
      "source": [
        "df['Class Intervals']=pd.cut(df['Score'],bins=bins,right=False,)\n",
        "print(df)\n"
      ],
      "metadata": {
        "colab": {
          "base_uri": "https://localhost:8080/"
        },
        "id": "JfvORIzLVn8x",
        "outputId": "75c33bb3-cc60-4eca-8aa7-51cb3622527e"
      },
      "execution_count": 52,
      "outputs": [
        {
          "output_type": "stream",
          "name": "stdout",
          "text": [
            "    Score Class Intervals\n",
            "0     328  [300.0, 350.0)\n",
            "1     470  [450.0, 500.0)\n",
            "2     405  [400.0, 450.0)\n",
            "3     375  [350.0, 400.0)\n",
            "4     298  [250.0, 300.0)\n",
            "5     326  [300.0, 350.0)\n",
            "6     276  [250.0, 300.0)\n",
            "7     362  [350.0, 400.0)\n",
            "8     410  [400.0, 450.0)\n",
            "9     255  [250.0, 300.0)\n",
            "10    391  [350.0, 400.0)\n",
            "11    370  [350.0, 400.0)\n",
            "12    455  [450.0, 500.0)\n",
            "13    229  [200.0, 250.0)\n",
            "14    300  [300.0, 350.0)\n",
            "15    183  [150.0, 200.0)\n",
            "16    283  [250.0, 300.0)\n",
            "17    366  [350.0, 400.0)\n",
            "18    400  [400.0, 450.0)\n",
            "19    495  [450.0, 500.0)\n",
            "20    215  [200.0, 250.0)\n",
            "21    157  [150.0, 200.0)\n",
            "22    374  [350.0, 400.0)\n",
            "23    306  [300.0, 350.0)\n",
            "24    280  [250.0, 300.0)\n",
            "25    409  [400.0, 450.0)\n",
            "26    321  [300.0, 350.0)\n",
            "27    269  [250.0, 300.0)\n",
            "28    398  [350.0, 400.0)\n",
            "29    200  [200.0, 250.0)\n"
          ]
        }
      ]
    },
    {
      "cell_type": "code",
      "source": [
        "table2=pd.crosstab(index=df['Class Intervals'],columns='Frequency')"
      ],
      "metadata": {
        "id": "xbQQoJYXVsWa"
      },
      "execution_count": null,
      "outputs": []
    },
    {
      "cell_type": "code",
      "source": [
        "import numpy as np\n",
        "A=np.array([[9,10,11],[15,16,17],[20,21,22]])\n",
        "print(\"The third row of the matrix is \",A[2,:])\n",
        "print(\"The second column of the matrix is \",A[:,1])\n",
        "print(\"The element in the second row and third column of the matrix is \",A[1,2])"
      ],
      "metadata": {
        "colab": {
          "base_uri": "https://localhost:8080/"
        },
        "id": "BMSlldiTVzHm",
        "outputId": "06a0a53e-9f1d-437f-b2e3-2929a1eba5ce"
      },
      "execution_count": 54,
      "outputs": [
        {
          "output_type": "stream",
          "name": "stdout",
          "text": [
            "The third row of the matrix is  [20 21 22]\n",
            "The second column of the matrix is  [10 16 21]\n",
            "The element in the second row and third column of the matrix is  17\n"
          ]
        }
      ]
    }
  ]
}