{
  "nbformat": 4,
  "nbformat_minor": 0,
  "metadata": {
    "colab": {
      "provenance": [],
      "authorship_tag": "ABX9TyNM6tJa0r/QDfdMlaml1meQ",
      "include_colab_link": true
    },
    "kernelspec": {
      "name": "python3",
      "display_name": "Python 3"
    },
    "language_info": {
      "name": "python"
    }
  },
  "cells": [
    {
      "cell_type": "markdown",
      "metadata": {
        "id": "view-in-github",
        "colab_type": "text"
      },
      "source": [
        "<a href=\"https://colab.research.google.com/github/sujithh1110/AIML11/blob/main/lab1.ipynb\" target=\"_parent\"><img src=\"https://colab.research.google.com/assets/colab-badge.svg\" alt=\"Open In Colab\"/></a>"
      ]
    },
    {
      "cell_type": "code",
      "execution_count": null,
      "metadata": {
        "colab": {
          "base_uri": "https://localhost:8080/"
        },
        "id": "DSMWrFIS3rTQ",
        "outputId": "2c4d3047-c7aa-4019-e562-bdffaff4d7a3"
      },
      "outputs": [
        {
          "output_type": "stream",
          "name": "stdout",
          "text": [
            "Data type of array1: int64\n",
            "Data type of DataFrame:\n",
            " Column1    int64\n",
            "Column2    int64\n",
            "dtype: object\n",
            "Log2 of array1: [0.         1.         1.5849625  2.         2.32192809]\n",
            "Exponential of array1: [  2.71828183   7.3890561   20.08553692  54.59815003 148.4131591 ]\n",
            "Sine of array1: [ 0.84147098  0.90929743  0.14112001 -0.7568025  -0.95892427]\n",
            "Multiplication of array1 and array2: [ 6 14 24 36 50]\n",
            "Division of array2 by array1: [6.         3.5        2.66666667 2.25       2.        ]\n",
            "Power of array1 elements: [ 1  4  9 16 25]\n",
            "Addition of array1 and array2: [ 7  9 11 13 15]\n",
            "The log2 of array1 is [0.         1.         1.5849625  2.         2.32192809], the exponential is [  2.71828183   7.3890561   20.08553692  54.59815003 148.4131591 ], and the sine values are [ 0.84147098  0.90929743  0.14112001 -0.7568025  -0.95892427].\n",
            "DataFrame with Sum column:\n",
            "    Column1  Column2  Sum\n",
            "0        1        6    7\n",
            "1        2        7    9\n",
            "2        3        8   11\n",
            "3        4        9   13\n",
            "4        5       10   15\n",
            "DataFrame with Log2 of Column1:\n",
            "    Column1  Column2  Sum  Log2_Column1\n",
            "0        1        6    7      0.000000\n",
            "1        2        7    9      1.000000\n",
            "2        3        8   11      1.584963\n",
            "3        4        9   13      2.000000\n",
            "4        5       10   15      2.321928\n",
            "DATA TYPES\n",
            "<class 'numpy.ndarray'>\n",
            "<class 'numpy.ndarray'>\n"
          ]
        }
      ],
      "source": [
        "import numpy as np\n",
        "import pandas as pd\n",
        "array1 = np.array([1, 2, 3, 4, 5])\n",
        "array2 = np.array([6, 7, 8, 9, 10])\n",
        "\n",
        "data = {'Column1': [1, 2, 3, 4, 5], 'Column2': [6, 7, 8, 9, 10]}\n",
        "df = pd.DataFrame(data)\n",
        "print(\"Data type of array1:\", array1.dtype)\n",
        "print(\"Data type of DataFrame:\\n\", df.dtypes)\n",
        "log2_array1 = np.log2(array1)\n",
        "print(\"Log2 of array1:\", log2_array1)\n",
        "\n",
        "exp_array1 = np.exp(array1)\n",
        "print(\"Exponential of array1:\", exp_array1)\n",
        "\n",
        "sin_array1 = np.sin(array1)\n",
        "print(\"Sine of array1:\", sin_array1)\n",
        "\n",
        "mult_array = array1 * array2\n",
        "print(\"Multiplication of array1 and array2:\", mult_array)\n",
        "\n",
        "div_array = array2 / array1\n",
        "print(\"Division of array2 by array1:\", div_array)\n",
        "\n",
        "power_array = np.power(array1, 2)\n",
        "print(\"Power of array1 elements:\", power_array)\n",
        "\n",
        "add_array = array1 + array2\n",
        "print(\"Addition of array1 and array2:\", add_array)\n",
        "text_output = f\"The log2 of array1 is {log2_array1}, the exponential is {exp_array1}, and the sine values are {sin_array1}.\"\n",
        "print(text_output)\n",
        "df['Sum'] = df['Column1'] + df['Column2']\n",
        "print(\"DataFrame with Sum column:\\n\", df)\n",
        "\n",
        "# Applying a NumPy function to a DataFrame column\n",
        "df['Log2_Column1'] = np.log2(df['Column1'])\n",
        "print(\"DataFrame with Log2 of Column1:\\n\", df)\n",
        "print(\"DATA TYPES\")\n",
        "print(type(array1))\n",
        "print(type(array2))"
      ]
    }
  ]
}